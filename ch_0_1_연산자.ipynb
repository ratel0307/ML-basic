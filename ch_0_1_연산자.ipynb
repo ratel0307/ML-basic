{
  "nbformat": 4,
  "nbformat_minor": 0,
  "metadata": {
    "colab": {
      "provenance": [],
      "authorship_tag": "ABX9TyMhxJfCbqXYcpaQmATX1Q9L",
      "include_colab_link": true
    },
    "kernelspec": {
      "name": "python3",
      "display_name": "Python 3"
    },
    "language_info": {
      "name": "python"
    }
  },
  "cells": [
    {
      "cell_type": "markdown",
      "metadata": {
        "id": "view-in-github",
        "colab_type": "text"
      },
      "source": [
        "<a href=\"https://colab.research.google.com/github/ratel0307/ML-basic/blob/master/ch_0_1_%EC%97%B0%EC%82%B0%EC%9E%90.ipynb\" target=\"_parent\"><img src=\"https://colab.research.google.com/assets/colab-badge.svg\" alt=\"Open In Colab\"/></a>"
      ]
    },
    {
      "cell_type": "markdown",
      "source": [
        "## 연산자\n",
        "\n",
        "- 파이썬 계산 사칙연산"
      ],
      "metadata": {
        "id": "xYYh-jyTQEh_"
      }
    },
    {
      "cell_type": "markdown",
      "source": [
        "- 사칙연산자"
      ],
      "metadata": {
        "id": "iPPHE2a1QPjB"
      }
    },
    {
      "cell_type": "code",
      "source": [
        "a = 12244 - 214"
      ],
      "metadata": {
        "id": "SFRHeOuzQJjj"
      },
      "execution_count": null,
      "outputs": []
    },
    {
      "cell_type": "code",
      "source": [
        "print(a)"
      ],
      "metadata": {
        "colab": {
          "base_uri": "https://localhost:8080/"
        },
        "id": "7f50yfKGQmo6",
        "outputId": "11456c2a-9815-4c2e-e02a-617e794b18ab"
      },
      "execution_count": null,
      "outputs": [
        {
          "output_type": "stream",
          "name": "stdout",
          "text": [
            "12030\n"
          ]
        }
      ]
    },
    {
      "cell_type": "code",
      "source": [
        "7//3"
      ],
      "metadata": {
        "colab": {
          "base_uri": "https://localhost:8080/"
        },
        "id": "ORS4uR6dQrLf",
        "outputId": "d0246f53-bfa4-4643-9d0b-183841af1b6b"
      },
      "execution_count": null,
      "outputs": [
        {
          "output_type": "execute_result",
          "data": {
            "text/plain": [
              "2"
            ]
          },
          "metadata": {},
          "execution_count": 6
        }
      ]
    },
    {
      "cell_type": "code",
      "source": [
        "7%2"
      ],
      "metadata": {
        "colab": {
          "base_uri": "https://localhost:8080/"
        },
        "id": "DR73lqxVRKIt",
        "outputId": "b9d82d75-cbb8-485f-83ba-61edf29cab94"
      },
      "execution_count": null,
      "outputs": [
        {
          "output_type": "execute_result",
          "data": {
            "text/plain": [
              "1"
            ]
          },
          "metadata": {},
          "execution_count": 7
        }
      ]
    },
    {
      "cell_type": "code",
      "source": [
        "2**3"
      ],
      "metadata": {
        "colab": {
          "base_uri": "https://localhost:8080/"
        },
        "id": "8RORRiJBRMpe",
        "outputId": "bf46c3dd-1155-4eff-a7a1-4220cd8d3259"
      },
      "execution_count": null,
      "outputs": [
        {
          "output_type": "execute_result",
          "data": {
            "text/plain": [
              "8"
            ]
          },
          "metadata": {},
          "execution_count": 8
        }
      ]
    },
    {
      "cell_type": "code",
      "source": [
        "2**(1/2)"
      ],
      "metadata": {
        "colab": {
          "base_uri": "https://localhost:8080/"
        },
        "id": "oAwgylCsRTGJ",
        "outputId": "5e8d14bf-3b19-4c06-917c-f39c8362fe9f"
      },
      "execution_count": null,
      "outputs": [
        {
          "output_type": "execute_result",
          "data": {
            "text/plain": [
              "1.4142135623730951"
            ]
          },
          "metadata": {},
          "execution_count": 10
        }
      ]
    },
    {
      "cell_type": "markdown",
      "source": [
        "- 할당연산자"
      ],
      "metadata": {
        "id": "4zQ96BtERmwd"
      }
    },
    {
      "cell_type": "code",
      "source": [
        "a = 5\n",
        "print(a)"
      ],
      "metadata": {
        "colab": {
          "base_uri": "https://localhost:8080/"
        },
        "id": "mdvHZrOMRcc8",
        "outputId": "fabd770b-3399-4521-9e95-199116bca085"
      },
      "execution_count": null,
      "outputs": [
        {
          "output_type": "stream",
          "name": "stdout",
          "text": [
            "5\n"
          ]
        }
      ]
    },
    {
      "cell_type": "code",
      "source": [
        "a = a + 1"
      ],
      "metadata": {
        "id": "X73iSafyRqK8"
      },
      "execution_count": null,
      "outputs": []
    },
    {
      "cell_type": "code",
      "source": [
        "print(a)"
      ],
      "metadata": {
        "colab": {
          "base_uri": "https://localhost:8080/"
        },
        "id": "Z5pK1hwvRr7D",
        "outputId": "33015ba5-1f5d-4e05-9b26-84896adb2cd4"
      },
      "execution_count": null,
      "outputs": [
        {
          "output_type": "stream",
          "name": "stdout",
          "text": [
            "6\n"
          ]
        }
      ]
    },
    {
      "cell_type": "code",
      "source": [
        "1 ==2"
      ],
      "metadata": {
        "colab": {
          "base_uri": "https://localhost:8080/"
        },
        "id": "UcHd47B7RtDw",
        "outputId": "d08c7d91-4ae4-4820-d98c-9cb19e9a2e71"
      },
      "execution_count": null,
      "outputs": [
        {
          "output_type": "execute_result",
          "data": {
            "text/plain": [
              "False"
            ]
          },
          "metadata": {},
          "execution_count": 14
        }
      ]
    },
    {
      "cell_type": "code",
      "source": [
        "a += 2"
      ],
      "metadata": {
        "id": "nKm-AwdWRvgf"
      },
      "execution_count": null,
      "outputs": []
    },
    {
      "cell_type": "code",
      "source": [
        "print(a)"
      ],
      "metadata": {
        "colab": {
          "base_uri": "https://localhost:8080/"
        },
        "id": "tB5lgFrPR72a",
        "outputId": "e241cbc0-6d43-45c4-9acf-75114e4bb8d7"
      },
      "execution_count": null,
      "outputs": [
        {
          "output_type": "stream",
          "name": "stdout",
          "text": [
            "8\n"
          ]
        }
      ]
    },
    {
      "cell_type": "markdown",
      "source": [
        "- 비교연산자: 참, 거짓 판별"
      ],
      "metadata": {
        "id": "OeaJZbKmSJbg"
      }
    },
    {
      "cell_type": "code",
      "source": [
        "3 == 3"
      ],
      "metadata": {
        "colab": {
          "base_uri": "https://localhost:8080/"
        },
        "id": "bI8LacsgR821",
        "outputId": "f6b4b0d1-4771-4fe3-9ab9-bb92cb47753f"
      },
      "execution_count": null,
      "outputs": [
        {
          "output_type": "execute_result",
          "data": {
            "text/plain": [
              "True"
            ]
          },
          "metadata": {},
          "execution_count": 17
        }
      ]
    },
    {
      "cell_type": "code",
      "source": [
        "1 != 2"
      ],
      "metadata": {
        "colab": {
          "base_uri": "https://localhost:8080/"
        },
        "id": "DNNNDJhRSNgx",
        "outputId": "143ec64f-661a-4b5e-b889-b325f95af6a1"
      },
      "execution_count": null,
      "outputs": [
        {
          "output_type": "execute_result",
          "data": {
            "text/plain": [
              "True"
            ]
          },
          "metadata": {},
          "execution_count": 18
        }
      ]
    },
    {
      "cell_type": "code",
      "source": [
        "1 =! 2"
      ],
      "metadata": {
        "id": "NOpePmrGSQWF",
        "outputId": "76463748-5231-4d5e-c67e-244afaf0e952",
        "colab": {
          "base_uri": "https://localhost:8080/",
          "height": 110
        }
      },
      "execution_count": null,
      "outputs": [
        {
          "output_type": "error",
          "ename": "SyntaxError",
          "evalue": "cannot assign to literal here. Maybe you meant '==' instead of '='? (<ipython-input-19-1e71c4a74303>, line 1)",
          "traceback": [
            "\u001b[0;36m  File \u001b[0;32m\"<ipython-input-19-1e71c4a74303>\"\u001b[0;36m, line \u001b[0;32m1\u001b[0m\n\u001b[0;31m    1 =get_ipython().getoutput(' 2')\u001b[0m\n\u001b[0m    ^\u001b[0m\n\u001b[0;31mSyntaxError\u001b[0m\u001b[0;31m:\u001b[0m cannot assign to literal here. Maybe you meant '==' instead of '='?\n"
          ]
        }
      ]
    },
    {
      "cell_type": "code",
      "source": [],
      "metadata": {
        "id": "7qMVVlD2SRcA"
      },
      "execution_count": null,
      "outputs": []
    }
  ]
}