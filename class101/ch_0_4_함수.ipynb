{
  "nbformat": 4,
  "nbformat_minor": 0,
  "metadata": {
    "colab": {
      "provenance": [],
      "authorship_tag": "ABX9TyPVUR1nnDb08UHieNXW/2ir",
      "include_colab_link": true
    },
    "kernelspec": {
      "name": "python3",
      "display_name": "Python 3"
    },
    "language_info": {
      "name": "python"
    }
  },
  "cells": [
    {
      "cell_type": "markdown",
      "metadata": {
        "id": "view-in-github",
        "colab_type": "text"
      },
      "source": [
        "<a href=\"https://colab.research.google.com/github/ratel0307/ML-basic/blob/master/ch_0_4_%ED%95%A8%EC%88%98.ipynb\" target=\"_parent\"><img src=\"https://colab.research.google.com/assets/colab-badge.svg\" alt=\"Open In Colab\"/></a>"
      ]
    },
    {
      "cell_type": "markdown",
      "source": [
        "- 함수\n",
        "  - 기본함수\n",
        "  - 함수 안의 함수\n",
        "  - 함수 사용 팁\n",
        "\n"
      ],
      "metadata": {
        "id": "R8SZ3zuRbVKW"
      }
    },
    {
      "cell_type": "markdown",
      "source": [
        "- 수학의 함수\n",
        "  - 함수 연산으로 이루어진 결과는 무조건 하나\n",
        "- 프로그램의 함수\n",
        "  - 함수의 연산으로 이루어진 결과는 하나, 혹은 여러개, 또는 없을 수도 있음"
      ],
      "metadata": {
        "id": "SGJKXpBGbal7"
      }
    },
    {
      "cell_type": "markdown",
      "source": [
        "Example. 1 일차방정식의 근"
      ],
      "metadata": {
        "id": "2s422QSwb2Ip"
      }
    },
    {
      "cell_type": "code",
      "execution_count": 2,
      "metadata": {
        "id": "I7yxuDpfbR1c"
      },
      "outputs": [],
      "source": [
        "def first_sol(a,b): #define: 정의하다. first_sol은 함수이름.\n",
        "  return -b/a"
      ]
    },
    {
      "cell_type": "code",
      "source": [
        "sol = first_sol(1,1)"
      ],
      "metadata": {
        "id": "DEDdlirJcuC_"
      },
      "execution_count": 3,
      "outputs": []
    },
    {
      "cell_type": "code",
      "source": [
        "sol"
      ],
      "metadata": {
        "colab": {
          "base_uri": "https://localhost:8080/"
        },
        "id": "Xdn3bLV4c22-",
        "outputId": "a4740050-388f-44ea-cdcb-90179c3bcf27"
      },
      "execution_count": 4,
      "outputs": [
        {
          "output_type": "execute_result",
          "data": {
            "text/plain": [
              "-1.0"
            ]
          },
          "metadata": {},
          "execution_count": 4
        }
      ]
    },
    {
      "cell_type": "code",
      "source": [
        "def osori(a,b):\n",
        "  return 2*a+b\n",
        "\n",
        "osori(3,4)"
      ],
      "metadata": {
        "colab": {
          "base_uri": "https://localhost:8080/"
        },
        "id": "EUsXNifqc3Vm",
        "outputId": "9d7a51c1-23d4-4977-ade9-6a01ca97eab7"
      },
      "execution_count": 10,
      "outputs": [
        {
          "output_type": "execute_result",
          "data": {
            "text/plain": [
              "10"
            ]
          },
          "metadata": {},
          "execution_count": 10
        }
      ]
    },
    {
      "cell_type": "markdown",
      "source": [
        "Example2. 이차방정식 근의 공식"
      ],
      "metadata": {
        "id": "JDCYfZO6devV"
      }
    },
    {
      "cell_type": "code",
      "source": [
        "def secorder_sol(a,b,c):\n",
        "  checkpoint = b**2-4*a*c\n",
        "  if checkpoint > 0:\n",
        "    return (-b+checkpoint**0.5)/(2*a), (-b-checkpoint**0.5)/(2*a)\n",
        "  elif checkpoint == 0:\n",
        "    return (-b)/(2*a)\n",
        "  else:\n",
        "    print('근이 없는 경우입니다!')\n",
        "    return None\n"
      ],
      "metadata": {
        "id": "oQzUqkoadStA"
      },
      "execution_count": 12,
      "outputs": []
    },
    {
      "cell_type": "code",
      "source": [
        "secorder_sol(1,2,0)"
      ],
      "metadata": {
        "colab": {
          "base_uri": "https://localhost:8080/"
        },
        "id": "G1WeHAfKeyeB",
        "outputId": "b010a104-7fa5-4821-d00e-cfd963b781b7"
      },
      "execution_count": 13,
      "outputs": [
        {
          "output_type": "execute_result",
          "data": {
            "text/plain": [
              "(0.0, -2.0)"
            ]
          },
          "metadata": {},
          "execution_count": 13
        }
      ]
    },
    {
      "cell_type": "code",
      "source": [
        "secorder_sol(1,2,1)"
      ],
      "metadata": {
        "colab": {
          "base_uri": "https://localhost:8080/"
        },
        "id": "J9BKc3GHe7gh",
        "outputId": "54829089-4b7e-4503-c6ae-a8c88be1e79b"
      },
      "execution_count": 15,
      "outputs": [
        {
          "output_type": "execute_result",
          "data": {
            "text/plain": [
              "-1.0"
            ]
          },
          "metadata": {},
          "execution_count": 15
        }
      ]
    },
    {
      "cell_type": "code",
      "source": [
        "secorder_sol(1,2,2)"
      ],
      "metadata": {
        "colab": {
          "base_uri": "https://localhost:8080/"
        },
        "id": "1s2A3pfNe9up",
        "outputId": "0f585bca-6a7e-4acd-e44b-107de9e378fb"
      },
      "execution_count": 19,
      "outputs": [
        {
          "output_type": "stream",
          "name": "stdout",
          "text": [
            "근이 없는 경우입니다!\n"
          ]
        }
      ]
    },
    {
      "cell_type": "code",
      "source": [
        "print(None)"
      ],
      "metadata": {
        "colab": {
          "base_uri": "https://localhost:8080/"
        },
        "id": "eK6L_FUtfDXh",
        "outputId": "65f6f97f-35a2-4933-ca20-77329a00a6d7"
      },
      "execution_count": 20,
      "outputs": [
        {
          "output_type": "stream",
          "name": "stdout",
          "text": [
            "None\n"
          ]
        }
      ]
    },
    {
      "cell_type": "code",
      "source": [
        "None"
      ],
      "metadata": {
        "id": "8k7ZFJU5fR4a"
      },
      "execution_count": 21,
      "outputs": []
    },
    {
      "cell_type": "code",
      "source": [
        "None + 1"
      ],
      "metadata": {
        "colab": {
          "base_uri": "https://localhost:8080/",
          "height": 147
        },
        "id": "qRuedCJufSdp",
        "outputId": "c276994c-f6b4-4cce-aa2f-fc7a91bdc852"
      },
      "execution_count": 22,
      "outputs": [
        {
          "output_type": "error",
          "ename": "TypeError",
          "evalue": "unsupported operand type(s) for +: 'NoneType' and 'int'",
          "traceback": [
            "\u001b[0;31m---------------------------------------------------------------------------\u001b[0m",
            "\u001b[0;31mTypeError\u001b[0m                                 Traceback (most recent call last)",
            "\u001b[0;32m<ipython-input-22-3fd8740bf8ab>\u001b[0m in \u001b[0;36m<cell line: 1>\u001b[0;34m()\u001b[0m\n\u001b[0;32m----> 1\u001b[0;31m \u001b[0;32mNone\u001b[0m \u001b[0;34m+\u001b[0m \u001b[0;36m1\u001b[0m\u001b[0;34m\u001b[0m\u001b[0;34m\u001b[0m\u001b[0m\n\u001b[0m",
            "\u001b[0;31mTypeError\u001b[0m: unsupported operand type(s) for +: 'NoneType' and 'int'"
          ]
        }
      ]
    },
    {
      "cell_type": "code",
      "source": [
        "type(NOne)"
      ],
      "metadata": {
        "colab": {
          "base_uri": "https://localhost:8080/",
          "height": 147
        },
        "id": "f9ibCzMefTsJ",
        "outputId": "a749a2dd-99b5-4e39-8323-69b5138bdfda"
      },
      "execution_count": 23,
      "outputs": [
        {
          "output_type": "error",
          "ename": "NameError",
          "evalue": "name 'NOne' is not defined",
          "traceback": [
            "\u001b[0;31m---------------------------------------------------------------------------\u001b[0m",
            "\u001b[0;31mNameError\u001b[0m                                 Traceback (most recent call last)",
            "\u001b[0;32m<ipython-input-23-abbaef9677f2>\u001b[0m in \u001b[0;36m<cell line: 1>\u001b[0;34m()\u001b[0m\n\u001b[0;32m----> 1\u001b[0;31m \u001b[0mtype\u001b[0m\u001b[0;34m(\u001b[0m\u001b[0mNOne\u001b[0m\u001b[0;34m)\u001b[0m\u001b[0;34m\u001b[0m\u001b[0;34m\u001b[0m\u001b[0m\n\u001b[0m",
            "\u001b[0;31mNameError\u001b[0m: name 'NOne' is not defined"
          ]
        }
      ]
    },
    {
      "cell_type": "code",
      "source": [
        "type(None)"
      ],
      "metadata": {
        "colab": {
          "base_uri": "https://localhost:8080/"
        },
        "id": "0Xvyejz0fVKR",
        "outputId": "cec2dcab-5ba8-43ee-9912-29fba5adf7d4"
      },
      "execution_count": 24,
      "outputs": [
        {
          "output_type": "execute_result",
          "data": {
            "text/plain": [
              "NoneType"
            ]
          },
          "metadata": {},
          "execution_count": 24
        }
      ]
    },
    {
      "cell_type": "code",
      "source": [],
      "metadata": {
        "id": "HNhGvViVfWr5"
      },
      "execution_count": null,
      "outputs": []
    }
  ]
}
