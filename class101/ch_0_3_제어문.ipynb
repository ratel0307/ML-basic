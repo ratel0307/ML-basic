{
  "nbformat": 4,
  "nbformat_minor": 0,
  "metadata": {
    "colab": {
      "provenance": [],
      "authorship_tag": "ABX9TyNPqULecHhF8t6U5j1nlFkS",
      "include_colab_link": true
    },
    "kernelspec": {
      "name": "python3",
      "display_name": "Python 3"
    },
    "language_info": {
      "name": "python"
    }
  },
  "cells": [
    {
      "cell_type": "markdown",
      "metadata": {
        "id": "view-in-github",
        "colab_type": "text"
      },
      "source": [
        "<a href=\"https://colab.research.google.com/github/ratel0307/ML-basic/blob/master/ch_0_3_%EC%A0%9C%EC%96%B4%EB%AC%B8.ipynb\" target=\"_parent\"><img src=\"https://colab.research.google.com/assets/colab-badge.svg\" alt=\"Open In Colab\"/></a>"
      ]
    },
    {
      "cell_type": "markdown",
      "source": [
        "- 제어문\n",
        "  - 조건문\n",
        "  - 반복문"
      ],
      "metadata": {
        "id": "GAyPSyVfLtjM"
      }
    },
    {
      "cell_type": "code",
      "execution_count": null,
      "metadata": {
        "id": "F-WCimqmLotf"
      },
      "outputs": [],
      "source": [
        "# 조건문 if - else 구문"
      ]
    },
    {
      "cell_type": "code",
      "source": [
        "score = 1100\n",
        "if score >= 1000:\n",
        "  print('점수',score)\n",
        "  print('잘했어요!')\n",
        "else:\n",
        "  print('조금 더 분발해요!')"
      ],
      "metadata": {
        "colab": {
          "base_uri": "https://localhost:8080/"
        },
        "id": "O1UIEMNuMDH6",
        "outputId": "31a14bf0-e2ea-4049-948f-adf58ddb0129"
      },
      "execution_count": null,
      "outputs": [
        {
          "output_type": "stream",
          "name": "stdout",
          "text": [
            "점수 1100\n",
            "잘했어요!\n"
          ]
        }
      ]
    },
    {
      "cell_type": "code",
      "source": [
        "print(1, 2, 3)"
      ],
      "metadata": {
        "colab": {
          "base_uri": "https://localhost:8080/"
        },
        "id": "e7dUO-t-OQM0",
        "outputId": "78cb10c9-ab94-44b5-ba48-3abf5a7d0a14"
      },
      "execution_count": null,
      "outputs": [
        {
          "output_type": "stream",
          "name": "stdout",
          "text": [
            "1 2 3\n"
          ]
        }
      ]
    },
    {
      "cell_type": "code",
      "source": [
        "Fe_score = 60\n",
        "Yh_score = 80\n",
        "\n",
        "if Fe_score >= 80 and Yh_score >= 80:\n",
        "  print('둘 다 합격입니다.')\n",
        "elif Fe_score >+ 80 or Yh_score >= 80:\n",
        "  print(\"한 명만 합격입니다.\")\n",
        "else:\n",
        "  print(\"둘 다 불합격입니다.\")"
      ],
      "metadata": {
        "colab": {
          "base_uri": "https://localhost:8080/"
        },
        "id": "3io_hQkcOnR6",
        "outputId": "42680259-a2c9-47c9-d914-906a98c9e069"
      },
      "execution_count": null,
      "outputs": [
        {
          "output_type": "stream",
          "name": "stdout",
          "text": [
            "한 명만 합격입니다.\n"
          ]
        }
      ]
    },
    {
      "cell_type": "code",
      "source": [
        "# 반복문\n",
        "\n",
        "array1 = [10, 20, 30, 40, 50]\n",
        "for i in array1:\n",
        "  print(i) #리스트 안에서 순서대로 뽑음"
      ],
      "metadata": {
        "id": "-vTKP01JPuVl",
        "colab": {
          "base_uri": "https://localhost:8080/"
        },
        "outputId": "7b50c8e9-425e-46e8-8821-88c090144104"
      },
      "execution_count": 4,
      "outputs": [
        {
          "output_type": "stream",
          "name": "stdout",
          "text": [
            "10\n",
            "20\n",
            "30\n",
            "40\n",
            "50\n"
          ]
        }
      ]
    },
    {
      "cell_type": "code",
      "source": [
        "for i in range(10): #range10 == [0,1,2,3,4,5,6,7,8,9]\n",
        "  print(i)"
      ],
      "metadata": {
        "colab": {
          "base_uri": "https://localhost:8080/"
        },
        "id": "qcPbxyJbUh7u",
        "outputId": "5052899d-74d5-455f-eb53-6f7d53af9aea"
      },
      "execution_count": 5,
      "outputs": [
        {
          "output_type": "stream",
          "name": "stdout",
          "text": [
            "0\n",
            "1\n",
            "2\n",
            "3\n",
            "4\n",
            "5\n",
            "6\n",
            "7\n",
            "8\n",
            "9\n"
          ]
        }
      ]
    },
    {
      "cell_type": "code",
      "source": [
        "for idx, ele in enumerate(array1):\n",
        "  print('{}번째, 원소 {}'.format(idx,ele))\n",
        "  #enumerate: 이 원소가 몇번째에 있는지 두개변수 창출함\n",
        "  #format 함수 쓰면 그 앞에 딱 대입되네"
      ],
      "metadata": {
        "colab": {
          "base_uri": "https://localhost:8080/"
        },
        "id": "PRzr47_rU9Kl",
        "outputId": "ccc476ab-754a-47b2-f50f-45002b92ae64"
      },
      "execution_count": 9,
      "outputs": [
        {
          "output_type": "stream",
          "name": "stdout",
          "text": [
            "0번째, 원소 10\n",
            "1번째, 원소 20\n",
            "2번째, 원소 30\n",
            "3번째, 원소 40\n",
            "4번째, 원소 50\n"
          ]
        }
      ]
    },
    {
      "cell_type": "code",
      "source": [
        "for idx, ele in enumerate(array1):\n",
        "  print(idx, '번째', ele,'입니다')"
      ],
      "metadata": {
        "colab": {
          "base_uri": "https://localhost:8080/"
        },
        "id": "sOuoXFT5VfN5",
        "outputId": "4d1f160f-3819-4ff6-f431-f5c77687a8cd"
      },
      "execution_count": 14,
      "outputs": [
        {
          "output_type": "stream",
          "name": "stdout",
          "text": [
            "0 번째 10 입니다\n",
            "1 번째 20 입니다\n",
            "2 번째 30 입니다\n",
            "3 번째 40 입니다\n",
            "4 번째 50 입니다\n"
          ]
        }
      ]
    },
    {
      "cell_type": "code",
      "source": [
        "# 반복문 while"
      ],
      "metadata": {
        "id": "uVysDXNQV4dO"
      },
      "execution_count": 11,
      "outputs": []
    },
    {
      "cell_type": "code",
      "source": [
        "i = 0\n",
        "while i < 10:\n",
        "  i += 1\n",
        "  print(i, '출력합니다')"
      ],
      "metadata": {
        "colab": {
          "base_uri": "https://localhost:8080/"
        },
        "id": "5_hPLg1UWOF_",
        "outputId": "fdf47693-fc5f-458c-e3d3-84bc14883ebe"
      },
      "execution_count": 16,
      "outputs": [
        {
          "output_type": "stream",
          "name": "stdout",
          "text": [
            "1 출력합니다\n",
            "2 출력합니다\n",
            "3 출력합니다\n",
            "4 출력합니다\n",
            "5 출력합니다\n",
            "6 출력합니다\n",
            "7 출력합니다\n",
            "8 출력합니다\n",
            "9 출력합니다\n",
            "10 출력합니다\n"
          ]
        }
      ]
    },
    {
      "cell_type": "code",
      "source": [],
      "metadata": {
        "id": "ZpaosdQeWgFn"
      },
      "execution_count": null,
      "outputs": []
    }
  ]
}
