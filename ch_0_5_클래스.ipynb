{
  "nbformat": 4,
  "nbformat_minor": 0,
  "metadata": {
    "colab": {
      "provenance": [],
      "authorship_tag": "ABX9TyOab1Re6oiPhDJMGvOEqvEg",
      "include_colab_link": true
    },
    "kernelspec": {
      "name": "python3",
      "display_name": "Python 3"
    },
    "language_info": {
      "name": "python"
    }
  },
  "cells": [
    {
      "cell_type": "markdown",
      "metadata": {
        "id": "view-in-github",
        "colab_type": "text"
      },
      "source": [
        "<a href=\"https://colab.research.google.com/github/ratel0307/ML-basic/blob/master/ch_0_5_%ED%81%B4%EB%9E%98%EC%8A%A4.ipynb\" target=\"_parent\"><img src=\"https://colab.research.google.com/assets/colab-badge.svg\" alt=\"Open In Colab\"/></a>"
      ]
    },
    {
      "cell_type": "markdown",
      "source": [],
      "metadata": {
        "id": "Bk9L1mX7mNvK"
      }
    },
    {
      "cell_type": "markdown",
      "source": [
        "- 클래스\n",
        "  - 다양한 속성들을 가진 하나의 자료를 표현하기에 적합한 구문\n",
        "  - 예시\n",
        "    - 자동차: 연료, 기어상태, 속도, 연비, 현재 위치 등\n",
        "    - 인공신경망: 신경망 구조, 순전파, 역전파"
      ],
      "metadata": {
        "id": "NrBoKYS9mO1C"
      }
    },
    {
      "cell_type": "markdown",
      "source": [
        "Example. 계산기\n",
        "- 계산기 기능\n",
        "  - 사칙연산\n",
        "  - 결과 출력\n",
        "  - 중간값 저장\n",
        "  - 초기화"
      ],
      "metadata": {
        "id": "SQD7LsImmeuG"
      }
    },
    {
      "cell_type": "code",
      "source": [
        "class BlackBox:\n",
        "  def __\n",
        "\n",
        "b1 = BlackBox()\n",
        "b1.name = '까망이'\n",
        "print(b1.name)"
      ],
      "metadata": {
        "colab": {
          "base_uri": "https://localhost:8080/"
        },
        "id": "WO80t_lEpyHh",
        "outputId": "952ede80-3fb5-4901-dedb-b60ccfae9277"
      },
      "execution_count": 2,
      "outputs": [
        {
          "output_type": "stream",
          "name": "stdout",
          "text": [
            "까망이\n"
          ]
        }
      ]
    },
    {
      "cell_type": "code",
      "source": [
        "print(isinstance(b1, BlackBox))"
      ],
      "metadata": {
        "colab": {
          "base_uri": "https://localhost:8080/"
        },
        "id": "NYaibI3bqhCA",
        "outputId": "8d12da21-c970-4ea7-9b9f-7a6b06710dd5"
      },
      "execution_count": 3,
      "outputs": [
        {
          "output_type": "stream",
          "name": "stdout",
          "text": [
            "True\n"
          ]
        }
      ]
    },
    {
      "cell_type": "code",
      "source": [
        "b2 = BlackBox()"
      ],
      "metadata": {
        "id": "X3H0Nh5pqjjv"
      },
      "execution_count": 4,
      "outputs": []
    },
    {
      "cell_type": "code",
      "source": [
        "print(b2.name)"
      ],
      "metadata": {
        "colab": {
          "base_uri": "https://localhost:8080/",
          "height": 146
        },
        "id": "zyGW-ol_qqSP",
        "outputId": "96508e0d-3f3f-49ef-dd6f-05c7206bf15e"
      },
      "execution_count": 5,
      "outputs": [
        {
          "output_type": "error",
          "ename": "AttributeError",
          "evalue": "'BlackBox' object has no attribute 'name'",
          "traceback": [
            "\u001b[0;31m---------------------------------------------------------------------------\u001b[0m",
            "\u001b[0;31mAttributeError\u001b[0m                            Traceback (most recent call last)",
            "\u001b[0;32m<ipython-input-5-ad12844d7e58>\u001b[0m in \u001b[0;36m<cell line: 1>\u001b[0;34m()\u001b[0m\n\u001b[0;32m----> 1\u001b[0;31m \u001b[0mprint\u001b[0m\u001b[0;34m(\u001b[0m\u001b[0mb2\u001b[0m\u001b[0;34m.\u001b[0m\u001b[0mname\u001b[0m\u001b[0;34m)\u001b[0m\u001b[0;34m\u001b[0m\u001b[0;34m\u001b[0m\u001b[0m\n\u001b[0m",
            "\u001b[0;31mAttributeError\u001b[0m: 'BlackBox' object has no attribute 'name'"
          ]
        }
      ]
    },
    {
      "cell_type": "code",
      "execution_count": 7,
      "metadata": {
        "id": "flKja2Cvfp6V"
      },
      "outputs": [],
      "source": [
        "class Calculator():\n",
        "  def __init__(self):\n",
        "    self.memory = 0\n",
        "\n",
        "  def show(self):\n",
        "    print('현재 계산기에 저장된 값: {:f}'.format(self.memory))\n",
        "\n",
        "  def clear(self):\n",
        "    self.memory = 0\n",
        "\n",
        "  def add(self,a):\n",
        "    self.memory += a\n",
        "\n",
        "  def subtract(self,a):\n",
        "    self.memory -= a\n",
        "\n",
        "  def mul(self,a):\n",
        "    self.memory *= a\n",
        "\n",
        "  def div(self,a):\n",
        "    try:\n",
        "      self.memory /= a\n",
        "    except:\n",
        "      print('0으로 나누는 것은 불가능합니다')"
      ]
    },
    {
      "cell_type": "code",
      "source": [
        "cal1=Calculator()"
      ],
      "metadata": {
        "id": "lSIOQu8Fqq9f"
      },
      "execution_count": 8,
      "outputs": []
    },
    {
      "cell_type": "code",
      "source": [
        "cal1.add(3)"
      ],
      "metadata": {
        "id": "hl7qsCQFrwWa"
      },
      "execution_count": 9,
      "outputs": []
    },
    {
      "cell_type": "code",
      "source": [
        "cal1.show()"
      ],
      "metadata": {
        "colab": {
          "base_uri": "https://localhost:8080/"
        },
        "id": "1VUsCOi5r0gx",
        "outputId": "6d77e141-dee7-480d-8857-5e83dad01325"
      },
      "execution_count": 10,
      "outputs": [
        {
          "output_type": "stream",
          "name": "stdout",
          "text": [
            "현재 계산기에 저장된 값: 3.000000\n"
          ]
        }
      ]
    },
    {
      "cell_type": "code",
      "source": [
        "cal1.mul(3.5)"
      ],
      "metadata": {
        "id": "reUjhD5Ir5NZ"
      },
      "execution_count": 11,
      "outputs": []
    },
    {
      "cell_type": "code",
      "source": [
        "cal1.show()"
      ],
      "metadata": {
        "colab": {
          "base_uri": "https://localhost:8080/"
        },
        "id": "0mIYBqAisCMi",
        "outputId": "1493c29c-c143-4742-e62a-0bd09dd87b1f"
      },
      "execution_count": 12,
      "outputs": [
        {
          "output_type": "stream",
          "name": "stdout",
          "text": [
            "현재 계산기에 저장된 값: 10.500000\n"
          ]
        }
      ]
    },
    {
      "cell_type": "code",
      "source": [
        "cal.clear()"
      ],
      "metadata": {
        "colab": {
          "base_uri": "https://localhost:8080/",
          "height": 146
        },
        "id": "pLEgFN8TsDQB",
        "outputId": "d27723bb-b71d-4a33-9878-dda08133ba36"
      },
      "execution_count": 13,
      "outputs": [
        {
          "output_type": "error",
          "ename": "NameError",
          "evalue": "name 'cal' is not defined",
          "traceback": [
            "\u001b[0;31m---------------------------------------------------------------------------\u001b[0m",
            "\u001b[0;31mNameError\u001b[0m                                 Traceback (most recent call last)",
            "\u001b[0;32m<ipython-input-13-bbea8d42dcf2>\u001b[0m in \u001b[0;36m<cell line: 1>\u001b[0;34m()\u001b[0m\n\u001b[0;32m----> 1\u001b[0;31m \u001b[0mcal\u001b[0m\u001b[0;34m.\u001b[0m\u001b[0mclear\u001b[0m\u001b[0;34m(\u001b[0m\u001b[0;34m)\u001b[0m\u001b[0;34m\u001b[0m\u001b[0;34m\u001b[0m\u001b[0m\n\u001b[0m",
            "\u001b[0;31mNameError\u001b[0m: name 'cal' is not defined"
          ]
        }
      ]
    },
    {
      "cell_type": "code",
      "source": [
        "cal1.clear()"
      ],
      "metadata": {
        "id": "amjRq4iSsGG6"
      },
      "execution_count": 14,
      "outputs": []
    },
    {
      "cell_type": "code",
      "source": [
        "cal1.show()"
      ],
      "metadata": {
        "colab": {
          "base_uri": "https://localhost:8080/"
        },
        "id": "Zsmdi8-RsHqi",
        "outputId": "e84db394-4ec0-44d3-fee1-13f83a646151"
      },
      "execution_count": 16,
      "outputs": [
        {
          "output_type": "stream",
          "name": "stdout",
          "text": [
            "현재 계산기에 저장된 값: 0.000000\n"
          ]
        }
      ]
    },
    {
      "cell_type": "code",
      "source": [
        "cal2 = Calculator()"
      ],
      "metadata": {
        "id": "XPE9zfCmsIox"
      },
      "execution_count": 17,
      "outputs": []
    },
    {
      "cell_type": "code",
      "source": [
        "cal2.subtract(-2)"
      ],
      "metadata": {
        "id": "VMkvHxR5sMpS"
      },
      "execution_count": 18,
      "outputs": []
    },
    {
      "cell_type": "code",
      "source": [
        "cal2.show()"
      ],
      "metadata": {
        "colab": {
          "base_uri": "https://localhost:8080/"
        },
        "id": "cgNjNf0QsPOa",
        "outputId": "9d5e97b1-c5af-4ff1-edce-73ac7eddae38"
      },
      "execution_count": 19,
      "outputs": [
        {
          "output_type": "stream",
          "name": "stdout",
          "text": [
            "현재 계산기에 저장된 값: 2.000000\n"
          ]
        }
      ]
    },
    {
      "cell_type": "markdown",
      "source": [
        "부모, 자식 클래스\n",
        "- 클래스 간에는 상위, 하위 개념이 있다\n",
        "  - Pytorch 라이브러리 사용할 때 잘 알아두면 편하다\n",
        "\n",
        "Example 2. 고급 계산기 부모, 자식 상속 예지\n",
        "- first_sol: ax + b\n",
        "- second_xol: ax^2 + bx + c"
      ],
      "metadata": {
        "id": "ed8q1uqas0ul"
      }
    },
    {
      "cell_type": "code",
      "source": [
        "class advance_calculator(Calculator):\n",
        "  def __init__(self):\n",
        "    super(advance_calculator,self).__init__() # 이 구문을 외우자\n",
        "\n",
        "  def first_sol(self,a,b):\n",
        "    self.memory = a*self.memory+b\n",
        "\n",
        "  def second_sol(self,a,b,c):\n",
        "    self.memory = a*self.memory**2+b*self.memory+c"
      ],
      "metadata": {
        "id": "nlc-WlxZsQiH"
      },
      "execution_count": 27,
      "outputs": []
    },
    {
      "cell_type": "code",
      "source": [
        "adv_cal = advance_calculator()"
      ],
      "metadata": {
        "id": "iRB2lb3BwDs_"
      },
      "execution_count": 28,
      "outputs": []
    },
    {
      "cell_type": "code",
      "source": [
        "adv_cal.add(3)\n",
        "adv_cal.show()"
      ],
      "metadata": {
        "colab": {
          "base_uri": "https://localhost:8080/"
        },
        "id": "LvdBzhVRwKMn",
        "outputId": "f0c4912b-d0cd-4edc-8433-3cadbd44927d"
      },
      "execution_count": 29,
      "outputs": [
        {
          "output_type": "stream",
          "name": "stdout",
          "text": [
            "현재 계산기에 저장된 값: 3.000000\n"
          ]
        }
      ]
    },
    {
      "cell_type": "code",
      "source": [
        "adv_cal.first_sol(1,2)"
      ],
      "metadata": {
        "id": "YjPE-qyhwttH"
      },
      "execution_count": 30,
      "outputs": []
    },
    {
      "cell_type": "code",
      "source": [
        "adv_cal.show()"
      ],
      "metadata": {
        "colab": {
          "base_uri": "https://localhost:8080/"
        },
        "id": "tZlmBP2dw0Pc",
        "outputId": "a04c24ce-24a6-4b22-af4a-b9617f74a107"
      },
      "execution_count": 31,
      "outputs": [
        {
          "output_type": "stream",
          "name": "stdout",
          "text": [
            "현재 계산기에 저장된 값: 5.000000\n"
          ]
        }
      ]
    },
    {
      "cell_type": "code",
      "source": [
        "adv_cal.second_sol(1,2,3)\n",
        "adv_cal.show()"
      ],
      "metadata": {
        "colab": {
          "base_uri": "https://localhost:8080/"
        },
        "id": "HWZtdPdTwzb3",
        "outputId": "a6a3014a-a4e0-40e2-e04f-53ad2aae3383"
      },
      "execution_count": 32,
      "outputs": [
        {
          "output_type": "stream",
          "name": "stdout",
          "text": [
            "현재 계산기에 저장된 값: 38.000000\n"
          ]
        }
      ]
    },
    {
      "cell_type": "code",
      "source": [],
      "metadata": {
        "id": "teDgEjK_w_oH"
      },
      "execution_count": null,
      "outputs": []
    }
  ]
}